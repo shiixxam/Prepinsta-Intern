{
 "cells": [
  {
   "cell_type": "code",
   "execution_count": null,
   "metadata": {},
   "outputs": [],
   "source": [
    "import requests\n",
    "from bs4 import BeautifulSoup as bs\n",
    "url = 'http://books.toscrape.com/'"
   ]
  },
  {
   "cell_type": "code",
   "execution_count": null,
   "metadata": {},
   "outputs": [],
   "source": [
    "response = requests.get(url)\n",
    "response\n"
   ]
  },
  {
   "cell_type": "code",
   "execution_count": null,
   "metadata": {},
   "outputs": [],
   "source": [
    "response.status_code\n",
    "type(response)\n",
    "print(response.text[:1000])\n"
   ]
  },
  {
   "cell_type": "code",
   "execution_count": null,
   "metadata": {},
   "outputs": [],
   "source": [
    "type(response.text)\n"
   ]
  },
  {
   "cell_type": "code",
   "execution_count": null,
   "metadata": {},
   "outputs": [],
   "source": [
    "soup = bs(response.text)\n",
    "type(soup)"
   ]
  },
  {
   "cell_type": "code",
   "execution_count": null,
   "metadata": {},
   "outputs": [],
   "source": [
    "\n",
    "soup.find('title').text\n",
    "soup.find('title').text.strip()"
   ]
  },
  {
   "cell_type": "code",
   "execution_count": null,
   "metadata": {},
   "outputs": [],
   "source": [
    "book_tag = soup.find_all('article',class_='product_pod')\n",
    "len(book_tag)"
   ]
  },
  {
   "cell_type": "code",
   "execution_count": null,
   "metadata": {},
   "outputs": [],
   "source": [
    "book = book_tag[0]\n",
    "print(book)"
   ]
  },
  {
   "cell_type": "code",
   "execution_count": null,
   "metadata": {},
   "outputs": [],
   "source": [
    "title_tag = book.find('a',title=True)\n",
    "title_tag"
   ]
  },
  {
   "cell_type": "code",
   "execution_count": null,
   "metadata": {},
   "outputs": [],
   "source": [
    "title_tag.text\n"
   ]
  },
  {
   "cell_type": "code",
   "execution_count": null,
   "metadata": {},
   "outputs": [],
   "source": [
    "title_tag['href']\n"
   ]
  },
  {
   "cell_type": "code",
   "execution_count": null,
   "metadata": {},
   "outputs": [],
   "source": [
    "title_tag['title']\n"
   ]
  },
  {
   "cell_type": "code",
   "execution_count": null,
   "metadata": {},
   "outputs": [],
   "source": [
    "book.find('p')['class'][1]"
   ]
  },
  {
   "cell_type": "code",
   "execution_count": null,
   "metadata": {},
   "outputs": [],
   "source": [
    "#2 price\n",
    "price = book_tag.find('p', class_='price_color').text[1:]\n",
    "price\n"
   ]
  },
  {
   "cell_type": "code",
   "execution_count": null,
   "metadata": {},
   "outputs": [],
   "source": [
    "#3Book link \n",
    "\n",
    "link = ' http://books.toscrape.com/' + book_tag.find('a')['href']\n",
    "link"
   ]
  },
  {
   "cell_type": "code",
   "execution_count": 31,
   "metadata": {},
   "outputs": [],
   "source": [
    "def get_details(book_tag):\n",
    "    title = book_tag.find('a', title=True)['title']\n",
    "    rating = book_tag.find('p')['class'][1]\n",
    "    price= book_tag.find('p',class_='price_color').text[1:]\n",
    "    link=' http://books.toscrape.com/' + book_tag.find('a')['href']\n",
    "    return title,rating,price,link    "
   ]
  },
  {
   "cell_type": "code",
   "execution_count": 33,
   "metadata": {},
   "outputs": [],
   "source": [
    "def get_soup(url):\n",
    "    resp = requests.get(url)\n",
    "    if resp.status_code == 200:\n",
    "     return bs(resp.text)\n",
    "    else: return None\n",
    "\n",
    "def get_books(url):\n",
    "    soup=get_soup(url)\n",
    "    book_tag = soup.find_all('article',class_='product_pod')\n",
    "\n",
    "\n",
    "    books=[]\n",
    "    for book_tag in book_tag:\n",
    "        books.append(get_details(book_tag))\n",
    "\n",
    "    return books"
   ]
  },
  {
   "cell_type": "markdown",
   "metadata": {},
   "source": []
  },
  {
   "cell_type": "code",
   "execution_count": 34,
   "metadata": {},
   "outputs": [
    {
     "data": {
      "text/plain": [
       "20"
      ]
     },
     "execution_count": 34,
     "metadata": {},
     "output_type": "execute_result"
    }
   ],
   "source": [
    "url= 'http://books.toscrape.com/'\n",
    "books=get_books(url)\n",
    "len(books)"
   ]
  },
  {
   "cell_type": "code",
   "execution_count": 35,
   "metadata": {},
   "outputs": [
    {
     "data": {
      "text/plain": [
       "[('A Light in the Attic',\n",
       "  'Three',\n",
       "  '£51.77',\n",
       "  ' http://books.toscrape.com/catalogue/a-light-in-the-attic_1000/index.html'),\n",
       " ('Tipping the Velvet',\n",
       "  'One',\n",
       "  '£53.74',\n",
       "  ' http://books.toscrape.com/catalogue/tipping-the-velvet_999/index.html'),\n",
       " ('Soumission',\n",
       "  'One',\n",
       "  '£50.10',\n",
       "  ' http://books.toscrape.com/catalogue/soumission_998/index.html')]"
      ]
     },
     "execution_count": 35,
     "metadata": {},
     "output_type": "execute_result"
    }
   ],
   "source": [
    "books[:3]"
   ]
  },
  {
   "cell_type": "code",
   "execution_count": null,
   "metadata": {},
   "outputs": [],
   "source": []
  },
  {
   "cell_type": "code",
   "execution_count": 38,
   "metadata": {},
   "outputs": [],
   "source": [
    "import pandas as pd \n",
    "\n",
    "\n",
    "def get_all_books(page = 3):\n",
    "    books = []\n",
    "    for i in range(1, page+1):\n",
    "        url = f'http://books.toscrape.com/catalogue/page-{i}.html'\n",
    "        soup = get_soup(url)\n",
    "    if soup:\n",
    "        book_tag = soup.find_all('article',class_='product_pod')\n",
    "\n",
    "        for book_tag in book_tag:\n",
    "            books.append(get_details(book_tag))\n",
    "\n",
    "\n",
    "    books = pd.DataFrame(books,columns=['title','rating','price','link'])\n",
    "    return books"
   ]
  },
  {
   "cell_type": "code",
   "execution_count": 39,
   "metadata": {},
   "outputs": [
    {
     "data": {
      "text/html": [
       "<div>\n",
       "<style scoped>\n",
       "    .dataframe tbody tr th:only-of-type {\n",
       "        vertical-align: middle;\n",
       "    }\n",
       "\n",
       "    .dataframe tbody tr th {\n",
       "        vertical-align: top;\n",
       "    }\n",
       "\n",
       "    .dataframe thead th {\n",
       "        text-align: right;\n",
       "    }\n",
       "</style>\n",
       "<table border=\"1\" class=\"dataframe\">\n",
       "  <thead>\n",
       "    <tr style=\"text-align: right;\">\n",
       "      <th></th>\n",
       "      <th>title</th>\n",
       "      <th>rating</th>\n",
       "      <th>price</th>\n",
       "      <th>link</th>\n",
       "    </tr>\n",
       "  </thead>\n",
       "  <tbody>\n",
       "    <tr>\n",
       "      <th>0</th>\n",
       "      <td>Slow States of Collapse: Poems</td>\n",
       "      <td>Three</td>\n",
       "      <td>£57.31</td>\n",
       "      <td>http://books.toscrape.com/slow-states-of-coll...</td>\n",
       "    </tr>\n",
       "    <tr>\n",
       "      <th>1</th>\n",
       "      <td>Reasons to Stay Alive</td>\n",
       "      <td>Two</td>\n",
       "      <td>£26.41</td>\n",
       "      <td>http://books.toscrape.com/reasons-to-stay-ali...</td>\n",
       "    </tr>\n",
       "    <tr>\n",
       "      <th>2</th>\n",
       "      <td>Private Paris (Private #10)</td>\n",
       "      <td>Five</td>\n",
       "      <td>£47.61</td>\n",
       "      <td>http://books.toscrape.com/private-paris-priva...</td>\n",
       "    </tr>\n",
       "    <tr>\n",
       "      <th>3</th>\n",
       "      <td>#HigherSelfie: Wake Up Your Life. Free Your So...</td>\n",
       "      <td>Five</td>\n",
       "      <td>£23.11</td>\n",
       "      <td>http://books.toscrape.com/higherselfie-wake-u...</td>\n",
       "    </tr>\n",
       "    <tr>\n",
       "      <th>4</th>\n",
       "      <td>Without Borders (Wanderlove #1)</td>\n",
       "      <td>Two</td>\n",
       "      <td>£45.07</td>\n",
       "      <td>http://books.toscrape.com/without-borders-wan...</td>\n",
       "    </tr>\n",
       "  </tbody>\n",
       "</table>\n",
       "</div>"
      ],
      "text/plain": [
       "                                               title rating   price  \\\n",
       "0                     Slow States of Collapse: Poems  Three  £57.31   \n",
       "1                              Reasons to Stay Alive    Two  £26.41   \n",
       "2                        Private Paris (Private #10)   Five  £47.61   \n",
       "3  #HigherSelfie: Wake Up Your Life. Free Your So...   Five  £23.11   \n",
       "4                    Without Borders (Wanderlove #1)    Two  £45.07   \n",
       "\n",
       "                                                link  \n",
       "0   http://books.toscrape.com/slow-states-of-coll...  \n",
       "1   http://books.toscrape.com/reasons-to-stay-ali...  \n",
       "2   http://books.toscrape.com/private-paris-priva...  \n",
       "3   http://books.toscrape.com/higherselfie-wake-u...  \n",
       "4   http://books.toscrape.com/without-borders-wan...  "
      ]
     },
     "execution_count": 39,
     "metadata": {},
     "output_type": "execute_result"
    }
   ],
   "source": [
    "df = get_all_books(3)\n",
    "df.head()"
   ]
  },
  {
   "cell_type": "code",
   "execution_count": 40,
   "metadata": {},
   "outputs": [
    {
     "data": {
      "text/plain": [
       "(20, 4)"
      ]
     },
     "execution_count": 40,
     "metadata": {},
     "output_type": "execute_result"
    }
   ],
   "source": [
    "df.shape"
   ]
  }
 ],
 "metadata": {
  "kernelspec": {
   "display_name": "base",
   "language": "python",
   "name": "python3"
  },
  "language_info": {
   "codemirror_mode": {
    "name": "ipython",
    "version": 3
   },
   "file_extension": ".py",
   "mimetype": "text/x-python",
   "name": "python",
   "nbconvert_exporter": "python",
   "pygments_lexer": "ipython3",
   "version": "3.11.5"
  }
 },
 "nbformat": 4,
 "nbformat_minor": 2
}
